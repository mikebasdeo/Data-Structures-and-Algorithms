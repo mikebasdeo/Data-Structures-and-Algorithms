{
 "cells": [
  {
   "cell_type": "markdown",
   "metadata": {},
   "source": [
    "# Array Sequences"
   ]
  },
  {
   "cell_type": "markdown",
   "metadata": {},
   "source": [
    "Python has 3 main sequence classes: <br>\n",
    " List: $[1,2,3]$ <br>\n",
    " Tuple: $(1,2,3)$ <br>\n",
    " String: $'1,2,3'$ <br>\n"
   ]
  },
  {
   "cell_type": "markdown",
   "metadata": {},
   "source": [
    "### Low level Computer Architecture\n",
    "8 bits = 1 byte\n",
    "Python stores each unicode character with 16 bits (2 bytes)"
   ]
  },
  {
   "cell_type": "markdown",
   "metadata": {},
   "source": [
    "### Python Array Sequences are Referential\n",
    "Since each cell in an array needs to have the same amount of bytes (2) while allowing for different lengths of characters in each cell, we can use an array of object references. This is how python can provide O(1) access times for its array sequences.\n",
    "### Python Array Sequences are Dynamic"
   ]
  },
  {
   "cell_type": "code",
   "execution_count": 22,
   "metadata": {},
   "outputs": [
    {
     "name": "stdout",
     "output_type": "stream",
     "text": [
      "Length:  0 ; Size in bytes:64\n",
      "Length:  1 ; Size in bytes:96\n",
      "Length:  2 ; Size in bytes:96\n",
      "Length:  3 ; Size in bytes:96\n",
      "Length:  4 ; Size in bytes:96\n",
      "Length:  5 ; Size in bytes:128\n",
      "Length:  6 ; Size in bytes:128\n",
      "Length:  7 ; Size in bytes:128\n",
      "Length:  8 ; Size in bytes:128\n",
      "Length:  9 ; Size in bytes:192\n"
     ]
    }
   ],
   "source": [
    "import sys\n",
    "\n",
    "\n",
    "n = 10\n",
    "data = []\n",
    "\n",
    "for x in range(n):\n",
    "    numOfElements = len(data)\n",
    "    sizeInBytes = sys.getsizeof(data)\n",
    "    print('Length:{0:3d} ; Size in bytes:{1:2d}'.format(numOfElements,sizeInBytes))\n",
    "    data.append(x)"
   ]
  },
  {
   "cell_type": "markdown",
   "metadata": {},
   "source": [
    "### Dynamic Array Implementation\n",
    "This array uses ctypes (provides C compatible data types) to create an array that doubles in size when its capacity is reached. Each entry is stored using 1 bit (8 bytes)."
   ]
  },
  {
   "cell_type": "code",
   "execution_count": 23,
   "metadata": {},
   "outputs": [],
   "source": [
    "import ctypes\n",
    "from ctypes import sizeof\n",
    "\n",
    "class DynamicArray(object):\n",
    "    \n",
    "    def __init__(self):\n",
    "        self.length = 0\n",
    "        self.capacity = 1\n",
    "        self.A = self.make_array(self.capacity)\n",
    "        \n",
    "    def __len__(self):\n",
    "        return self.length\n",
    "    \n",
    "    def __getitem__(self, k):\n",
    "        if not 0 <= k < self.length:\n",
    "            return IndexError('K is out of bounds!')\n",
    "        \n",
    "        return self.A[k]\n",
    "    \n",
    "    def append(self, element):\n",
    "        if self.length == self.capacity:\n",
    "            self._resize(2*self.capacity)\n",
    "        self.A[self.length] = element\n",
    "        self.length +=1\n",
    "        \n",
    "    def _resize(self, new_capacity):\n",
    "        B = self.make_array(new_capacity)\n",
    "        #pass in all the crap\n",
    "        for x in range(self.length):\n",
    "            B[x] = self.A[x]\n",
    "        self.A = B\n",
    "        self.capacity = new_capacity\n",
    "        \n",
    "        # copy B to A or something \n",
    "    def make_array(self, capacity):\n",
    "        return (capacity * ctypes.py_object)()\n",
    "    \n",
    "    def get_capacity(self):\n",
    "        return self.capacity\n",
    "        \n",
    "        "
   ]
  },
  {
   "cell_type": "code",
   "execution_count": 24,
   "metadata": {},
   "outputs": [],
   "source": [
    "myArray = DynamicArray()\n",
    "\n",
    "myArray.append(69)\n",
    "myArray.append(69)\n",
    "myArray.append(69)\n",
    "myArray.append(69)\n",
    "myArray.append(69)\n"
   ]
  },
  {
   "cell_type": "code",
   "execution_count": 25,
   "metadata": {},
   "outputs": [
    {
     "data": {
      "text/plain": [
       "5"
      ]
     },
     "execution_count": 25,
     "metadata": {},
     "output_type": "execute_result"
    }
   ],
   "source": [
    "myArray.__len__()"
   ]
  },
  {
   "cell_type": "code",
   "execution_count": 26,
   "metadata": {},
   "outputs": [
    {
     "data": {
      "text/plain": [
       "69"
      ]
     },
     "execution_count": 26,
     "metadata": {},
     "output_type": "execute_result"
    }
   ],
   "source": [
    "myArray.__getitem__(0)"
   ]
  },
  {
   "cell_type": "code",
   "execution_count": 27,
   "metadata": {},
   "outputs": [
    {
     "data": {
      "text/plain": [
       "8"
      ]
     },
     "execution_count": 27,
     "metadata": {},
     "output_type": "execute_result"
    }
   ],
   "source": [
    "myArray.get_capacity()"
   ]
  },
  {
   "cell_type": "code",
   "execution_count": 28,
   "metadata": {},
   "outputs": [
    {
     "name": "stdout",
     "output_type": "stream",
     "text": [
      "Array is length: 5 Capacity: 8 Size: 64 bits\n"
     ]
    }
   ],
   "source": [
    "print('Array is length: {} Capacity: {} Size: {} bits'.format(len(myArray), \n",
    "myArray.capacity, ctypes.sizeof(myArray.A)))\n"
   ]
  },
  {
   "cell_type": "markdown",
   "metadata": {},
   "source": [
    "### Practice, Practice, Practice\n",
    "Implement a Dynamic Array"
   ]
  }
 ],
 "metadata": {
  "kernelspec": {
   "display_name": "Python 3",
   "language": "python",
   "name": "python3"
  },
  "language_info": {
   "codemirror_mode": {
    "name": "ipython",
    "version": 3
   },
   "file_extension": ".py",
   "mimetype": "text/x-python",
   "name": "python",
   "nbconvert_exporter": "python",
   "pygments_lexer": "ipython3",
   "version": "3.6.3"
  }
 },
 "nbformat": 4,
 "nbformat_minor": 2
}
