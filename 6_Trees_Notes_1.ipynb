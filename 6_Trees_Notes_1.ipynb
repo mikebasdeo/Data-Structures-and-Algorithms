{
 "cells": [
  {
   "cell_type": "markdown",
   "metadata": {},
   "source": [
    "# Trees"
   ]
  },
  {
   "cell_type": "markdown",
   "metadata": {},
   "source": [
    "A tree contains a set of nodes, edges, and the following properties:\n",
    "1. One node is the root node\n",
    "2. Every node except the root node has one incomming edge.\n",
    "3. A unique path traverses from the root to each node.\n",
    "4. If each node has a maximum of two children, it is a binary tree.\n",
    "\n"
   ]
  },
  {
   "cell_type": "markdown",
   "metadata": {},
   "source": [
    "## Implementation 1 - A Tree as a list of lists\n",
    "Store the root as the first element. Second element will be the left subtree. Third element will be the right subtree.\n"
   ]
  },
  {
   "cell_type": "code",
   "execution_count": 26,
   "metadata": {},
   "outputs": [],
   "source": [
    "def BinaryTree_1(root):\n",
    "    return [root, [], []]\n",
    "\n",
    "def insertLeft(root, newBranch):\n",
    "    \n",
    "    t = root.pop(1)\n",
    "    \n",
    "    if len(t) > 1:\n",
    "        root.insert(1,[ newBranch, t, [] ])\n",
    "    else:\n",
    "        root.insert(1, [ newBranch, [], [] ])\n",
    "    return root\n",
    "\n",
    "def insertRight(root, newBranch):\n",
    "    t = root.pop(2)\n",
    "    \n",
    "    if len(t) > 1:\n",
    "          root.insert(2, [ newBranch, [], t ])\n",
    "    else:\n",
    "        root.insert(2, [newBranch, [], [] ])\n",
    "    return root\n",
    "        \n",
    "def getRootVal(root):\n",
    "    return root[0]\n",
    "\n",
    "def setRootVal(root, newVal):\n",
    "    root[0] = newVal\n",
    "\n",
    "def getLeftChild(root):\n",
    "    return root[1]\n",
    "\n",
    "def getRightChild(root):\n",
    "    return root[2]"
   ]
  },
  {
   "cell_type": "code",
   "execution_count": 27,
   "metadata": {},
   "outputs": [
    {
     "data": {
      "text/plain": [
       "[3, [4, [], []], [5, [], []]]"
      ]
     },
     "execution_count": 27,
     "metadata": {},
     "output_type": "execute_result"
    }
   ],
   "source": [
    "root = BinaryTree_1(3)\n",
    "insertLeft(root,4)\n",
    "insertRight(root, 5)"
   ]
  },
  {
   "cell_type": "markdown",
   "metadata": {},
   "source": [
    "## Implementation 2 - OOP + Traversals\n",
    "\n",
    "### PreOrder (ROOT > LEFT > RIGHT)\n",
    "Visit the root node first, then recursively traverse the left subtree, followed by the right subtree\n",
    "\n",
    "### PostOrder (LEFT > RIGHT > ROOT)\n",
    "\n",
    "### InOrder (LEFT > ROOT > RIGHT)\n",
    "Recursively traverse the left, then the root, then the right"
   ]
  },
  {
   "cell_type": "code",
   "execution_count": 59,
   "metadata": {},
   "outputs": [],
   "source": [
    "class BinaryTree(object):\n",
    "    \n",
    "    def __init__(self, rootObj):\n",
    "        self.key = rootObj\n",
    "        self.leftChild = None\n",
    "        self.rightChild = None\n",
    "    \n",
    "    def insertLeft(self, newNode):\n",
    "        if self.leftChild == None:\n",
    "            self.leftChild = BinaryTree(newNode)\n",
    "        else:\n",
    "            t = BinaryTree(newNode)\n",
    "            t.leftChild = self.leftChild\n",
    "            self.leftChild = t\n",
    "              \n",
    "    def insertRight(self, newNode):\n",
    "        if self.rightChild == None:\n",
    "            self.rightChild = BinaryTree(newNode)\n",
    "        else:\n",
    "            t = BinaryTree(newNode)\n",
    "            t.rightChild = self.rightChild\n",
    "            self.rightChild = t\n",
    "        \n",
    "    def getRightChild(self):\n",
    "        return self.rightChild\n",
    "    def getLeftChild(self):\n",
    "        return self.leftChild\n",
    "    \n",
    "    def setRootVal(self, obj):\n",
    "        self.key = obj\n",
    "    \n",
    "    def getRootVal(self):\n",
    "        return self.key\n",
    "    \n",
    "    def preorder(self):\n",
    "        if self.key:\n",
    "            print(self.getRootVal())\n",
    "            if self.leftChild:\n",
    "                self.leftChild.preorder()\n",
    "            if self.rightChild:\n",
    "                self.rightChild.preorder()\n",
    "                \n",
    "    def postorder(self):\n",
    "        if self.key:\n",
    "            if self.leftChild:\n",
    "                self.leftChild.postorder()\n",
    "            if self.rightChild:\n",
    "                self.rightChild.postorder()\n",
    "            print(self.getRootVal())\n",
    "    \n",
    "    def inorder(self):\n",
    "        if self.key:\n",
    "            if self.leftChild:\n",
    "                self.leftChild.inorder()\n",
    "            print(self.getRootVal())\n",
    "            if self.rightChild:\n",
    "                self.rightChild.inorder()"
   ]
  },
  {
   "cell_type": "code",
   "execution_count": 60,
   "metadata": {},
   "outputs": [
    {
     "name": "stdout",
     "output_type": "stream",
     "text": [
      "PREORDER\n",
      "Book\n",
      "Chapter 1\n",
      "Section 1.1\n",
      "Section 1.2\n",
      "Section 1.2.1\n",
      "Section 1.2.2\n",
      "Chapter 2\n",
      "Section 2.1\n",
      "Section 2.2\n",
      "Section 2.2.1\n",
      "Section 2.2.2\n",
      "POSTORDER\n",
      "Section 1.1\n",
      "Section 1.2.1\n",
      "Section 1.2.2\n",
      "Section 1.2\n",
      "Chapter 1\n",
      "Section 2.1\n",
      "Section 2.2.1\n",
      "Section 2.2.2\n",
      "Section 2.2\n",
      "Chapter 2\n",
      "Book\n",
      "INORDER\n",
      "Section 1.1\n",
      "Chapter 1\n",
      "Section 1.2.1\n",
      "Section 1.2\n",
      "Section 1.2.2\n",
      "Book\n",
      "Section 2.1\n",
      "Chapter 2\n",
      "Section 2.2.1\n",
      "Section 2.2\n",
      "Section 2.2.2\n"
     ]
    }
   ],
   "source": [
    "book = BinaryTree(\"Book\")\n",
    "book.insertLeft(\"Chapter 1\")\n",
    "book.insertRight(\"Chapter 2\")\n",
    "book.getLeftChild().insertLeft(\"Section 1.1\")\n",
    "book.getLeftChild().insertRight(\"Section 1.2\")\n",
    "book.getLeftChild().getRightChild().insertLeft(\"Section 1.2.1\")\n",
    "book.getLeftChild().getRightChild().insertRight(\"Section 1.2.2\")\n",
    "book.getRightChild().insertLeft(\"Section 2.1\")\n",
    "book.getRightChild().insertRight(\"Section 2.2\")\n",
    "book.getRightChild().getRightChild().insertLeft(\"Section 2.2.1\")\n",
    "book.getRightChild().getRightChild().insertRight(\"Section 2.2.2\")\n",
    "print(\"PREORDER\")\n",
    "book.preorder()\n",
    "print(\"POSTORDER\")\n",
    "book.postorder()\n",
    "print(\"INORDER\")\n",
    "book.inorder()"
   ]
  }
 ],
 "metadata": {
  "kernelspec": {
   "display_name": "Python 3",
   "language": "python",
   "name": "python3"
  },
  "language_info": {
   "codemirror_mode": {
    "name": "ipython",
    "version": 3
   },
   "file_extension": ".py",
   "mimetype": "text/x-python",
   "name": "python",
   "nbconvert_exporter": "python",
   "pygments_lexer": "ipython3",
   "version": "3.6.3"
  }
 },
 "nbformat": 4,
 "nbformat_minor": 2
}
